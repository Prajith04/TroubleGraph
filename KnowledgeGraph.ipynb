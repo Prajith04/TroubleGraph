{
 "cells": [
  {
   "cell_type": "code",
   "execution_count": null,
   "id": "b191af1d",
   "metadata": {},
   "outputs": [],
   "source": [
    "import os\n",
    "from dotenv import load_dotenv\n",
    "load_dotenv()\n",
    "# Set your API key for GroQ LLM (replace with actual key)\n",
    "GROQ_API_KEY = os.getenv('GROQ_API_KEY')\n",
    "\n",
    "NEO4J_URI = os.getenv('NEO4J_URI')\n",
    "NEO4J_USERNAME = os.getenv('NEO4J_USERNAME')\n",
    "NEO4J_PASSWORD = os.getenv('NEO4J_PASSWORD')\n"
   ]
  },
  {
   "cell_type": "code",
   "execution_count": 4,
   "id": "3ac71ed4",
   "metadata": {},
   "outputs": [
    {
     "name": "stderr",
     "output_type": "stream",
     "text": [
      "/workspaces/codespaces-blank/TroubleGraph/.venv/lib/python3.12/site-packages/tqdm/auto.py:21: TqdmWarning: IProgress not found. Please update jupyter and ipywidgets. See https://ipywidgets.readthedocs.io/en/stable/user_install.html\n",
      "  from .autonotebook import tqdm as notebook_tqdm\n",
      "Generating train split: 100%|██████████| 1112/1112 [00:00<00:00, 33334.76 examples/s]\n",
      "Generating test split: 100%|██████████| 278/278 [00:00<00:00, 60635.28 examples/s]\n"
     ]
    },
    {
     "data": {
      "text/plain": [
       "{'body': 'Hello Customer Support,\\n\\nI am writing to express concern about my HP DeskJet 3755 printer, which is malfunctioning. It encounters errors when printing wirelessly, affecting all connected devices in my home network. This has significantly disrupted my ability to manage daily tasks. Could you please assist in diagnosing and resolving this issue? Any help would be appreciated. \\n\\nBest regards,\\n\\n<name> <acc_num>\\n<tel_num>',\n",
       " 'answer': 'Subject: Re: Issues with HP DeskJet 3755 Printer\\n\\nHello <name>,\\n\\nThank you for reaching out regarding your HP DeskJet 3755 printer issue. To address the wireless printing problem, please try the following steps:\\n\\n1. Restart your printer and router to refresh the network connection.\\n2. Ensure your printer’s firmware is up to date via the manufacturer’s website.\\n3. Confirm that all devices are connected to the same network.\\n4. Reinstall the printer drivers on your devices.\\n\\nIf the problem persists, please let us know so we can further assist you. \\n\\nBest regards,\\nCustomer Support',\n",
       " 'type': 'Incident',\n",
       " 'queue': 'Product Support'}"
      ]
     },
     "execution_count": 4,
     "metadata": {},
     "output_type": "execute_result"
    }
   ],
   "source": [
    "from datasets import load_dataset\n",
    "\n",
    "# Replace with the actual dataset identifier on Hugging Face\n",
    "dataset = load_dataset(\"Talhat/Customer_IT_Support\")\n",
    "\n",
    "# View the first few rows of the dataset\n",
    "dataset[\"train\"][0]"
   ]
  },
  {
   "cell_type": "code",
   "execution_count": 5,
   "id": "c93d0904",
   "metadata": {},
   "outputs": [],
   "source": [
    "from langchain_core.prompts import ChatPromptTemplate\n",
    "\n",
    "prompt = ChatPromptTemplate.from_template(\"\"\"\n",
    "You are a knowledge graph builder.\n",
    "\n",
    "Extract **structured triples** (subject, relationship, object) from the input text.\n",
    "\n",
    "Your goal is to build a knowledge graph that connects:\n",
    "- **Products or Services** to the **issues** they have.\n",
    "- **Issues** to **all the solutions** that address them.\n",
    "\n",
    "### Instructions:\n",
    "- Extract multi-word product or service names as nodes.\n",
    "- Extract detailed issue descriptions as nodes (not just keywords).\n",
    "- Extract **all full solution steps** mentioned — including **alternative fixes, workarounds, and sequential steps**.\n",
    "- Use the relationship `has_issue` between a product/service and an issue.\n",
    "- Use the relationship `has_solution` between an issue and **each individual solution**.\n",
    "- Include technical details like OS, version numbers, error codes, hardware components, or setting names if available.\n",
    "- Use complete phrases or full sentences for clarity.\n",
    "- Each solution should be output as a separate triple.\n",
    "- **Do NOT include any markup characters like < >, [ ], or XML/HTML tags** in your output. Use plain text only.\n",
    "\n",
    "### Input Text:\n",
    "{input}\n",
    "\n",
    "### Output Triples (format: subject, relation, object):\n",
    "\"\"\")\n"
   ]
  },
  {
   "cell_type": "code",
   "execution_count": 7,
   "id": "f5dd421b",
   "metadata": {},
   "outputs": [
    {
     "name": "stderr",
     "output_type": "stream",
     "text": [
      "/tmp/ipykernel_3938/1867942914.py:9: LangChainDeprecationWarning: The class `Neo4jGraph` was deprecated in LangChain 0.3.8 and will be removed in 1.0. An updated version of the class exists in the :class:`~langchain-neo4j package and should be used instead. To use it run `pip install -U :class:`~langchain-neo4j` and import as `from :class:`~langchain_neo4j import Neo4jGraph``.\n",
      "  graph = Neo4jGraph()\n"
     ]
    }
   ],
   "source": [
    "from langchain_experimental.graph_transformers import LLMGraphTransformer\n",
    "from langchain_groq import ChatGroq\n",
    "from langchain_community.graphs import Neo4jGraph\n",
    "# Initialize GroQ LLM (assuming GroQ is supported with LangChain interface)\n",
    "groq_llm = ChatGroq(temperature=0.7, model_name=\"meta-llama/llama-4-scout-17b-16e-instruct\", api_key=GROQ_API_KEY,max_retries=10)\n",
    "# Initialize the Graph Transformer\n",
    "llm_transformer = LLMGraphTransformer(llm=groq_llm,allowed_nodes=['product','service','Issue','solution'],  prompt=prompt,allowed_relationships=['has_issue','has_solution'])\n",
    "\n",
    "graph = Neo4jGraph()"
   ]
  },
  {
   "cell_type": "code",
   "execution_count": null,
   "id": "b2082dc1",
   "metadata": {},
   "outputs": [],
   "source": [
    "from langchain_core.documents import Document\n",
    "\n",
    "# Convert dataset responses into LangChain documents\n",
    "\n",
    "documents = [Document(page_content=row['body']+\"\\n\"+row['answer']) for row in dataset['train']]\n",
    "text=dataset['train'][3]['body']+\"\\n\"+dataset['train'][3]['answer']\n",
    "documents=[Document(page_content=text)]\n",
    "graph_documents = llm_transformer.convert_to_graph_documents(documents)\n",
    "\n",
    "# Inspect the generated graph data\n",
    "for i, doc in enumerate(graph_documents[:3]):  # Print first 3 examples\n",
    "    print(f\"Document {i+1} - Nodes: {doc.nodes}\")\n",
    "    print(f\"Document {i+1} - Relationships: {doc.relationships}\")\n",
    "\n",
    "# Store the graph data in Neo4j\n",
    "graph.add_documents(graph_documents)"
   ]
  },
  {
   "cell_type": "code",
   "execution_count": null,
   "id": "4f379a89",
   "metadata": {},
   "outputs": [],
   "source": [
    "for i in range(10,100):\n",
    "  text=dataset['train'][i]['body']+\"\\n\"+dataset['train'][i]['answer']\n",
    "  documents=[Document(page_content=text)]\n",
    "  graph_documents = llm_transformer.convert_to_graph_documents(documents)\n",
    "  graph.add_graph_documents(graph_documents)"
   ]
  },
  {
   "cell_type": "code",
   "execution_count": 8,
   "id": "a48bcc36",
   "metadata": {},
   "outputs": [],
   "source": [
    "from langchain.prompts import PromptTemplate\n",
    "\n",
    "CYPHER_GENERATION_TEMPLATE = \"\"\"Task: Generate a Cypher query to perform **multihop reasoning** in a graph database.\n",
    "Instructions:\n",
    "- Use only the provided relationship types and properties in the schema.\n",
    "- The query should traverse **multiple hops** between nodes.\n",
    "- Start from a specific entity (e.g., Product or Service), then navigate through related entities (e.g., Issues, Causes, Solutions).\n",
    "- Ensure the query spans at least two or more relationships to extract connected information.\n",
    "- Do not use any relationship types or properties that are not provided in the schema.\n",
    "\n",
    "Schema:\n",
    "{schema}\n",
    "\n",
    "Note:\n",
    "- Do not include any explanations or apologies in your responses.\n",
    "- Do not respond to any questions except for constructing a Cypher statement.\n",
    "- Do not include any text except the generated Cypher statement.\n",
    "\n",
    "The question is:\n",
    "{question}\"\"\"\n",
    "\n",
    "CYPHER_GENERATION_PROMPT = PromptTemplate(\n",
    "    input_variables=[\"schema\", \"question\"], template=CYPHER_GENERATION_TEMPLATE\n",
    ")\n",
    "qa_prompt = ChatPromptTemplate.from_template(\"\"\"\n",
    "You are a helpful support assistant using a knowledge graph of products, issues, and solutions.\n",
    "\n",
    "Based on the question and the extracted relationships from the graph, explain the issue and its solutions in a clear and helpful way.\n",
    "\n",
    "### Question:\n",
    "{question}\n",
    "\n",
    "### Extracted Knowledge Graph Triples:\n",
    "{context}\n",
    "\n",
    "### Guidelines:\n",
    "- Rephrase technical triples into complete, helpful sentences.\n",
    "- Explain each solution clearly, including steps or conditions.\n",
    "- Include any relevant product/service names, error messages, version numbers, or technical details.\n",
    "- Do not refer to nodes or relationships as \"triples\"; speak naturally.\n",
    "\n",
    "### Answer:\n",
    "\"\"\")\n"
   ]
  },
  {
   "cell_type": "code",
   "execution_count": 9,
   "id": "dace99ae",
   "metadata": {},
   "outputs": [],
   "source": [
    "from langchain_neo4j import GraphCypherQAChain\n",
    "chain = GraphCypherQAChain.from_llm(\n",
    "    llm=groq_llm,\n",
    "    graph=graph,\n",
    "    verbose=True,\n",
    "    top_k=100,\n",
    "    cypher_prompt=CYPHER_GENERATION_PROMPT,\n",
    "    qa_prompt=qa_prompt,\n",
    "    allow_dangerous_requests=True,\n",
    ")"
   ]
  },
  {
   "cell_type": "code",
   "execution_count": 10,
   "id": "4e9086bb",
   "metadata": {},
   "outputs": [
    {
     "name": "stdout",
     "output_type": "stream",
     "text": [
      "\n",
      "\n",
      "\u001b[1m> Entering new GraphCypherQAChain chain...\u001b[0m\n",
      "Generated Cypher:\n",
      "\u001b[32;1m\u001b[1;3mcypher\n",
      "MATCH p=(:Product {id: 'Macbook Air M1'})-[:HAS_ISSUE*1..2]-(issue:Issue)-[:HAS_SOLUTION*1..2]-(solution:Solution)\n",
      "RETURN DISTINCT issue.id AS issueId, solution.id AS solutionId\n",
      "\u001b[0m\n",
      "Full Context:\n",
      "\u001b[32;1m\u001b[1;3m[{'issueId': 'Charger Not Functioning', 'solutionId': 'Confirm That The Charger Is Securely Plugged In'}, {'issueId': 'Charger Not Functioning', 'solutionId': 'Utilize An Outlet That Is Known To Be Operational'}, {'issueId': 'Charger Not Functioning', 'solutionId': 'Inspect The Charging Port For Any Obstructions'}, {'issueId': 'Charger Not Functioning', 'solutionId': 'Perform A System Management Controller (Smc) Reset'}, {'issueId': 'Ram Sizes', 'solutionId': '8Gb Ram'}, {'issueId': 'Ram Sizes', 'solutionId': '16Gb Ram'}, {'issueId': 'Ssd Storage Capacities', 'solutionId': '256Gb Ssd'}, {'issueId': 'Ssd Storage Capacities', 'solutionId': '2Tb Ssd'}, {'issueId': 'Color Options', 'solutionId': 'Gold'}, {'issueId': 'Color Options', 'solutionId': 'Silver'}, {'issueId': 'Color Options', 'solutionId': 'Space Gray'}, {'issueId': 'Upgrades', 'solutionId': 'Upgrade Ram'}, {'issueId': 'Upgrades', 'solutionId': 'Upgrade Ssd'}, {'issueId': 'Promotions', 'solutionId': 'Discounts'}, {'issueId': 'Promotions', 'solutionId': 'Bundled Accessories'}, {'issueId': 'Screen Flickering Issue', 'solutionId': 'Visit Service Center'}, {'issueId': 'Screen Flickering Issue', 'solutionId': 'Perform A Complete Shutdown And Restart Of The Laptop'}, {'issueId': 'Screen Flickering Issue', 'solutionId': 'Ensure All System Updates Are Installed'}, {'issueId': 'Screen Flickering Issue', 'solutionId': 'Check If The Issue Persists In Safe Mode'}, {'issueId': 'Screen Flickering Issue', 'solutionId': 'Run Diagnostics By Pressing F12 During Startup To Identify Any Hardware Issues'}, {'issueId': 'Screen Flickering Issue', 'solutionId': 'Arrange For Repair Services'}, {'issueId': 'Screen Flickering Issue', 'solutionId': 'Adjusting The Screen Brightness'}, {'issueId': 'Screen Flickering Issue', 'solutionId': 'Restarting The Device'}, {'issueId': 'Screen Flickering Issue', 'solutionId': 'Ensure Macos Is Up To Date'}, {'issueId': 'Screen Flickering Issue', 'solutionId': 'Backing Up Data'}, {'issueId': 'Screen Flickering Issue', 'solutionId': 'Performing An Smc Reset'}, {'issueId': 'Screen Flickering Issue', 'solutionId': 'Sending Device To Service Center'}, {'issueId': 'Screen Flickering Issue', 'solutionId': \"Ensure Device'S Firmware Is Up-To-Date\"}, {'issueId': 'Screen Flickering Issue', 'solutionId': 'Perform A Hard Reset'}, {'issueId': 'Screen Flickering Issue', 'solutionId': 'Test Device In Safe Mode'}, {'issueId': 'Screen Flickering Issue', 'solutionId': 'Contact Support Team Directly'}, {'issueId': 'Non-Functional Battery', 'solutionId': 'Resetting The Smc'}, {'issueId': 'Non-Functional Battery', 'solutionId': 'Ensuring The Charging Adapter Is Functioning Properly'}, {'issueId': 'Non-Functional Battery', 'solutionId': 'Full Refund'}, {'issueId': 'Data Migration Issue', 'solutionId': 'Migration Assistant'}, {'issueId': 'Data Migration Issue', 'solutionId': 'Time Machine Backup'}, {'issueId': 'Faulty Keyboard', 'solutionId': 'Request An Exchange'}, {'issueId': 'Faulty Keyboard', 'solutionId': 'Contact Support Team'}, {'issueId': 'Faulty Keyboard', 'solutionId': 'Visit Nearest Store'}]\u001b[0m\n",
      "\n",
      "\u001b[1m> Finished chain.\u001b[0m\n"
     ]
    },
    {
     "data": {
      "text/plain": [
       "{'query': 'what are the issues in Macbook Air M1 and solutions',\n",
       " 'result': \"The MacBook Air M1 is a powerful and efficient laptop, but like any device, it's not immune to issues. Let's explore some common problems that users may encounter and their solutions.\\n\\n**Charger Not Functioning**\\n\\nIf your MacBook Air M1 charger is not functioning, try these steps:\\n\\n1. **Confirm that the charger is securely plugged in**: Ensure the charger is properly connected to both your MacBook Air and the power outlet.\\n2. **Utilize an outlet that is known to be operational**: Try plugging the charger into a different outlet to rule out any electrical issues.\\n3. **Inspect the charging port for any obstructions**: Check the charging port for dust, debris, or corrosion that may be preventing the charger from functioning properly.\\n4. **Perform a System Management Controller (SMC) reset**: Sometimes, a simple SMC reset can resolve charging issues. To do this, press the power button, the Command+Option+Shift+Power buttons, or the Power button and the Volume Down button, depending on your MacBook model.\\n\\n**Screen Flickering Issue**\\n\\nIf you're experiencing screen flickering on your MacBook Air M1, try these solutions:\\n\\n1. **Adjust the screen brightness**: Sometimes, adjusting the screen brightness can resolve flickering issues.\\n2. **Restart your device**: A simple reboot can often resolve screen flickering problems.\\n3. **Ensure macOS is up to date**: Make sure your MacBook Air is running the latest version of macOS.\\n4. **Perform an SMC reset**: An SMC reset can also help resolve screen flickering issues.\\n5. **Test your device in Safe Mode**: Restart your MacBook Air in Safe Mode to isolate the issue.\\n6. **Run diagnostics**: Press F12 during startup to run diagnostics and identify any hardware issues.\\n7. **Visit a service center**: If none of the above steps resolve the issue, visit an authorized Apple service center for further assistance.\\n\\n**Non-Functional Battery**\\n\\nIf your MacBook Air M1 battery is not functioning properly, try:\\n\\n1. **Resetting the SMC**: Resetting the SMC can sometimes resolve battery issues.\\n2. **Ensuring the charging adapter is functioning properly**: Check that the charging adapter is working correctly.\\n\\n**Data Migration Issue**\\n\\nIf you're experiencing issues migrating data to your MacBook Air M1, consider:\\n\\n1. **Using Migration Assistant**: Apple's Migration Assistant tool can help transfer data from your old Mac to your new one.\\n2. **Using Time Machine Backup**: Restore your data from a Time Machine backup.\\n\\n**Faulty Keyboard**\\n\\nIf your MacBook Air M1 keyboard is faulty, you can:\\n\\n1. **Contact the support team**: Reach out to Apple's support team for assistance.\\n2. **Request an exchange**: If the keyboard is faulty, you may be eligible for an exchange.\\n3. **Visit the nearest store**: Visit an Apple Store or authorized service provider for further assistance.\\n\\n**RAM Sizes and SSD Storage Capacities**\\n\\nThe MacBook Air M1 is available with:\\n\\n* **8GB or 16GB RAM**: Choose the RAM configuration that suits your needs.\\n* **256GB to 2TB SSD storage capacities**: Select the SSD storage capacity that fits your requirements.\\n\\n**Color Options**\\n\\nThe MacBook Air M1 is available in:\\n\\n* **Gold**\\n* **Silver**\\n* **Space Gray**\\n\\n**Upgrades and Promotions**\\n\\nYou can:\\n\\n* **Upgrade RAM**: Upgrade your MacBook Air M1 to a higher RAM configuration.\\n* **Upgrade SSD**: Upgrade your MacBook Air M1 to a larger SSD storage capacity.\\n* **Enjoy discounts and bundled accessories**: Look out for promotions and discounts on Apple's website or through authorized resellers.\"}"
      ]
     },
     "execution_count": 10,
     "metadata": {},
     "output_type": "execute_result"
    }
   ],
   "source": [
    "chain.invoke({\"query\": \"what are the issues in Macbook Air M1 and solutions\"})"
   ]
  }
 ],
 "metadata": {
  "kernelspec": {
   "display_name": ".venv",
   "language": "python",
   "name": "python3"
  },
  "language_info": {
   "codemirror_mode": {
    "name": "ipython",
    "version": 3
   },
   "file_extension": ".py",
   "mimetype": "text/x-python",
   "name": "python",
   "nbconvert_exporter": "python",
   "pygments_lexer": "ipython3",
   "version": "3.12.1"
  }
 },
 "nbformat": 4,
 "nbformat_minor": 5
}
